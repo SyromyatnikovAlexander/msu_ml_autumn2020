{
  "nbformat": 4,
  "nbformat_minor": 0,
  "metadata": {
    "kernelspec": {
      "display_name": "Python 3",
      "language": "python",
      "name": "python3"
    },
    "language_info": {
      "codemirror_mode": {
        "name": "ipython",
        "version": 3
      },
      "file_extension": ".py",
      "mimetype": "text/x-python",
      "name": "python",
      "nbconvert_exporter": "python",
      "pygments_lexer": "ipython3",
      "version": "3.8.5"
    },
    "colab": {
      "name": "syromyatnikov_hw1.ipynb",
      "provenance": [],
      "collapsed_sections": []
    }
  },
  "cells": [
    {
      "cell_type": "markdown",
      "metadata": {
        "id": "H2CgLTlQDqTC"
      },
      "source": [
        "**Общая информация**\n",
        "\n",
        "**Срок сдачи:** 21 октября 2020, 08:30 \n",
        "\n",
        "**Штраф за опоздание:** по 1 баллу за 24 часа задержки. Через 5 дней домашнее задание сгорает.\n",
        "\n",
        "При отправлении ДЗ указывайте фамилию в названии файла\n",
        "Присылать ДЗ необходимо в виде ссылки на свой github репозиторий на почту ml1.sphere@mail.ru с указанием темы в следующем формате:\n",
        "\n",
        "[ML0220, Задание 1] Фамилия Имя.\n",
        "\n",
        "Используйте данный Ipython Notebook при оформлении домашнего задания."
      ]
    },
    {
      "cell_type": "markdown",
      "metadata": {
        "id": "uL-Rd7zbDqTE"
      },
      "source": [
        "\n",
        "**Штрафные баллы:**\n",
        "\n",
        "1. Отсутствие фамилии в имени скрипта (скрипт должен называться по аналогии со stroykova_hw1.ipynb) -0.5 баллов\n",
        "2. Все строчки должны быть выполнены. Нужно, чтобы output команды можно было увидеть уже в git'е. В противном случае -0.5 баллов\n"
      ]
    },
    {
      "cell_type": "code",
      "metadata": {
        "id": "2h1akf7ODqTG"
      },
      "source": [
        "import numpy as np\n",
        "import matplotlib.pyplot as plt\n",
        "\n",
        "import seaborn as sns\n",
        "from sklearn import datasets\n",
        "from sklearn.base import BaseEstimator\n",
        "from sklearn.datasets import fetch_20newsgroups\n",
        "#fetch_mldata\n",
        "from sklearn.model_selection import train_test_split\n",
        "from sklearn.neighbors import KNeighborsClassifier\n",
        "from sklearn.metrics import accuracy_score"
      ],
      "execution_count": 1,
      "outputs": []
    },
    {
      "cell_type": "markdown",
      "metadata": {
        "id": "jXUqjyCkDqTQ"
      },
      "source": [
        "##### Задание 1 (1 балл)\n",
        "Реализовать KNN в классе MyKNeighborsClassifier (обязательное условие: точность не ниже sklearn реализации)\n",
        "Разберитесь самостоятельно, какая мера расстояния используется в KNeighborsClassifier дефолтно и реализуйте свой алгоритм именно с этой мерой. \n",
        "Для подсчета расстояний можно использовать функции [отсюда](https://docs.scipy.org/doc/scipy/reference/spatial.distance.html)"
      ]
    },
    {
      "cell_type": "code",
      "metadata": {
        "id": "g3DTZme_DqTS"
      },
      "source": [
        "from scipy.spatial.distance import cdist\n",
        "from sklearn.neighbors import KDTree\n",
        "from sklearn.neighbors import DistanceMetric\n",
        "from sklearn.metrics import pairwise_distances\n",
        "from sklearn.preprocessing import StandardScaler"
      ],
      "execution_count": 2,
      "outputs": []
    },
    {
      "cell_type": "code",
      "metadata": {
        "id": "J4GXoS6xDqTd"
      },
      "source": [
        "class MyKNeighborsClassifier(BaseEstimator):\n",
        "    #__n\n",
        "    #__myData\n",
        "    #__myTarget\n",
        "    \n",
        "    def __init__(self, n_neighbors, algorithm='brute', metric='euclidean', standardize=False):\n",
        "        self.n = n_neighbors\n",
        "        self.alg = algorithm\n",
        "        self.myData = []\n",
        "        self.myMetric = metric\n",
        "        self.standardize = standardize\n",
        "    \n",
        "    def fit(self, X, y):\n",
        "        tempX = X\n",
        "        if(self.standardize):\n",
        "            scaler = StandardScaler(with_mean=False)\n",
        "            scaler.fit(tempX)\n",
        "            tempX = scaler.transform(tempX)\n",
        "\n",
        "\n",
        "        if(self.alg == 'brute'):\n",
        "            self.myData = tempX\n",
        "            self.myTarget = y\n",
        "        if(self.alg == 'kd_tree'):\n",
        "            self.myData = KDTree(tempX)\n",
        "            #sklearn.neighbors.\n",
        "            self.myTarget = y\n",
        "    \n",
        "    def predict(self, X):\n",
        "        tempX = X\n",
        "        if(self.standardize):\n",
        "            scaler = StandardScaler(with_mean=False)\n",
        "            scaler.fit(tempX)\n",
        "            temp = scaler.transform(tempX)\n",
        "\n",
        "\n",
        "        if(self.alg == 'brute'):\n",
        "            distances = pairwise_distances(tempX, self.myData, metric=self.myMetric)\n",
        "            neighboursInd = np.argpartition(distances, kth=self.n, axis=1)[:,0:self.n:]\n",
        "            neighboursVal = [];\n",
        "            for i in neighboursInd:\n",
        "                neighboursVal.append(self.myTarget[i])\n",
        "            return np.apply_along_axis(lambda r: np.bincount(r).argmax(), 1, neighboursVal)\n",
        "        \n",
        "        if(self.alg == 'kd_tree'):\n",
        "            neighboursInd = self.myData.query(X, k=self.n, return_distance=False)\n",
        "            neighboursVal = [];\n",
        "            for i in neighboursInd:\n",
        "                neighboursVal.append(self.myTarget[i])\n",
        "            return np.apply_along_axis(lambda r: np.bincount(r).argmax(), 1, neighboursVal)\n"
      ],
      "execution_count": 3,
      "outputs": []
    },
    {
      "cell_type": "markdown",
      "metadata": {
        "id": "mElCGoVfDqTl"
      },
      "source": [
        "**IRIS**\n",
        "\n",
        "В библиотеке scikit-learn есть несколько датасетов из коробки. Один из них [Ирисы Фишера](https://ru.wikipedia.org/wiki/%D0%98%D1%80%D0%B8%D1%81%D1%8B_%D0%A4%D0%B8%D1%88%D0%B5%D1%80%D0%B0)"
      ]
    },
    {
      "cell_type": "code",
      "metadata": {
        "id": "5cKE69daDqTn"
      },
      "source": [
        "iris = datasets.load_iris()"
      ],
      "execution_count": 4,
      "outputs": []
    },
    {
      "cell_type": "code",
      "metadata": {
        "id": "5dncgzHlDqTv"
      },
      "source": [
        "X_train, X_test, y_train, y_test = train_test_split(iris.data, iris.target, test_size=0.1, stratify=iris.target)"
      ],
      "execution_count": 5,
      "outputs": []
    },
    {
      "cell_type": "code",
      "metadata": {
        "id": "EkOHW-uCDqT3"
      },
      "source": [
        "clf = KNeighborsClassifier(n_neighbors=2, algorithm='brute')\n",
        "my_clf = MyKNeighborsClassifier(n_neighbors=2, algorithm='brute')"
      ],
      "execution_count": 6,
      "outputs": []
    },
    {
      "cell_type": "code",
      "metadata": {
        "id": "7bNsCGRdDqT_"
      },
      "source": [
        "clf.fit(X_train, y_train)\n",
        "my_clf.fit(X_train, y_train)"
      ],
      "execution_count": 7,
      "outputs": []
    },
    {
      "cell_type": "code",
      "metadata": {
        "id": "s2IqUGNkDqUH"
      },
      "source": [
        "sklearn_pred = clf.predict(X_test)\n",
        "my_clf_pred = my_clf.predict(X_test)\n",
        "assert abs( accuracy_score(y_test, my_clf_pred) -  accuracy_score(y_test, sklearn_pred ) )<0.005, \"Score must be simillar\""
      ],
      "execution_count": 8,
      "outputs": []
    },
    {
      "cell_type": "markdown",
      "metadata": {
        "id": "8OuhqgCEDqUP"
      },
      "source": [
        "**Задание 2 (0.5 балла)**\n",
        "\n",
        "Давайте попробуем добиться скорости работы на fit, predict сравнимой со sklearn для iris. Допускается замедление не более чем в 2 раза. \n",
        "Для этого используем numpy. "
      ]
    },
    {
      "cell_type": "code",
      "metadata": {
        "id": "uRCnuJt1DqUQ",
        "outputId": "2d56ffe7-2c8f-4893-8177-a2a1982bd06b",
        "colab": {
          "base_uri": "https://localhost:8080/",
          "height": 102
        }
      },
      "source": [
        "%time clf.fit(X_train, y_train)"
      ],
      "execution_count": 9,
      "outputs": [
        {
          "output_type": "stream",
          "text": [
            "CPU times: user 679 µs, sys: 153 µs, total: 832 µs\n",
            "Wall time: 662 µs\n"
          ],
          "name": "stdout"
        },
        {
          "output_type": "execute_result",
          "data": {
            "text/plain": [
              "KNeighborsClassifier(algorithm='brute', leaf_size=30, metric='minkowski',\n",
              "                     metric_params=None, n_jobs=None, n_neighbors=2, p=2,\n",
              "                     weights='uniform')"
            ]
          },
          "metadata": {
            "tags": []
          },
          "execution_count": 9
        }
      ]
    },
    {
      "cell_type": "code",
      "metadata": {
        "id": "4CXuMNXzDqUc",
        "outputId": "d4a4b7b8-e86d-470e-af72-f515b5e01b6a",
        "colab": {
          "base_uri": "https://localhost:8080/",
          "height": 51
        }
      },
      "source": [
        "%time my_clf.fit(X_train, y_train)"
      ],
      "execution_count": 10,
      "outputs": [
        {
          "output_type": "stream",
          "text": [
            "CPU times: user 7 µs, sys: 1e+03 ns, total: 8 µs\n",
            "Wall time: 13.4 µs\n"
          ],
          "name": "stdout"
        }
      ]
    },
    {
      "cell_type": "code",
      "metadata": {
        "id": "gKXd6jmPDqUk",
        "outputId": "2714d8aa-7dc3-4b23-a2b1-f2cc0fa4bd52",
        "colab": {
          "base_uri": "https://localhost:8080/",
          "height": 68
        }
      },
      "source": [
        "%time clf.predict(X_test)"
      ],
      "execution_count": 11,
      "outputs": [
        {
          "output_type": "stream",
          "text": [
            "CPU times: user 2.54 ms, sys: 119 µs, total: 2.66 ms\n",
            "Wall time: 3.21 ms\n"
          ],
          "name": "stdout"
        },
        {
          "output_type": "execute_result",
          "data": {
            "text/plain": [
              "array([1, 2, 0, 1, 1, 0, 1, 2, 0, 2, 0, 1, 0, 2, 2])"
            ]
          },
          "metadata": {
            "tags": []
          },
          "execution_count": 11
        }
      ]
    },
    {
      "cell_type": "code",
      "metadata": {
        "id": "whXh1HCnDqUr",
        "outputId": "8e87afab-d043-4fa1-8e5a-67c25bf51964",
        "colab": {
          "base_uri": "https://localhost:8080/",
          "height": 68
        }
      },
      "source": [
        "%time my_clf.predict(X_test)"
      ],
      "execution_count": 12,
      "outputs": [
        {
          "output_type": "stream",
          "text": [
            "CPU times: user 888 µs, sys: 0 ns, total: 888 µs\n",
            "Wall time: 896 µs\n"
          ],
          "name": "stdout"
        },
        {
          "output_type": "execute_result",
          "data": {
            "text/plain": [
              "array([1, 2, 0, 1, 1, 0, 1, 2, 0, 2, 0, 1, 0, 2, 2])"
            ]
          },
          "metadata": {
            "tags": []
          },
          "execution_count": 12
        }
      ]
    },
    {
      "cell_type": "markdown",
      "metadata": {
        "id": "mMzZVPNYDqUy"
      },
      "source": [
        "###### Задание 3 (1 балл)\n",
        "Добавьте algorithm='kd_tree' в реализацию KNN (использовать KDTree из sklearn.neighbors). Необходимо добиться скорости работы на fit,  predict сравнимой со sklearn для iris. Допускается замедление не более чем в 2 раза. \n",
        "Для этого используем numpy. Точность не должна уступать значению KNN из sklearn. "
      ]
    },
    {
      "cell_type": "code",
      "metadata": {
        "id": "NYsJMHHpDqU0"
      },
      "source": [
        "clf = KNeighborsClassifier(n_neighbors=2, algorithm='kd_tree')\n",
        "my_clf = MyKNeighborsClassifier(n_neighbors=2, algorithm='kd_tree')"
      ],
      "execution_count": 13,
      "outputs": []
    },
    {
      "cell_type": "code",
      "metadata": {
        "id": "pPolFuObDqU7"
      },
      "source": [
        "X_train, X_test, y_train, y_test = train_test_split(iris.data, iris.target, test_size=0.1, stratify=iris.target)"
      ],
      "execution_count": 14,
      "outputs": []
    },
    {
      "cell_type": "code",
      "metadata": {
        "id": "rIlkeTJcDqVD",
        "outputId": "1ceb5671-5ab8-45ff-faae-56875c359eaf",
        "colab": {
          "base_uri": "https://localhost:8080/",
          "height": 102
        }
      },
      "source": [
        "%time clf.fit(X_train, y_train)"
      ],
      "execution_count": 15,
      "outputs": [
        {
          "output_type": "stream",
          "text": [
            "CPU times: user 1.11 ms, sys: 24 µs, total: 1.14 ms\n",
            "Wall time: 5.06 ms\n"
          ],
          "name": "stdout"
        },
        {
          "output_type": "execute_result",
          "data": {
            "text/plain": [
              "KNeighborsClassifier(algorithm='kd_tree', leaf_size=30, metric='minkowski',\n",
              "                     metric_params=None, n_jobs=None, n_neighbors=2, p=2,\n",
              "                     weights='uniform')"
            ]
          },
          "metadata": {
            "tags": []
          },
          "execution_count": 15
        }
      ]
    },
    {
      "cell_type": "code",
      "metadata": {
        "id": "0fzrL1n5DqVK",
        "outputId": "1e839195-654d-46cf-ff5a-ec6b4b50019b",
        "colab": {
          "base_uri": "https://localhost:8080/",
          "height": 51
        }
      },
      "source": [
        "%time my_clf.fit(X_train, y_train)"
      ],
      "execution_count": 16,
      "outputs": [
        {
          "output_type": "stream",
          "text": [
            "CPU times: user 219 µs, sys: 49 µs, total: 268 µs\n",
            "Wall time: 261 µs\n"
          ],
          "name": "stdout"
        }
      ]
    },
    {
      "cell_type": "code",
      "metadata": {
        "id": "JK2eLwghDqVR",
        "outputId": "27c71465-541d-45fb-f193-9cb3e3322ebe",
        "colab": {
          "base_uri": "https://localhost:8080/",
          "height": 68
        }
      },
      "source": [
        "%time clf.predict(X_test)"
      ],
      "execution_count": 17,
      "outputs": [
        {
          "output_type": "stream",
          "text": [
            "CPU times: user 2.26 ms, sys: 55 µs, total: 2.31 ms\n",
            "Wall time: 2.56 ms\n"
          ],
          "name": "stdout"
        },
        {
          "output_type": "execute_result",
          "data": {
            "text/plain": [
              "array([2, 2, 0, 0, 1, 2, 0, 1, 1, 1, 2, 1, 0, 1, 0])"
            ]
          },
          "metadata": {
            "tags": []
          },
          "execution_count": 17
        }
      ]
    },
    {
      "cell_type": "code",
      "metadata": {
        "id": "NG_oS87bDqVZ",
        "outputId": "48ec124b-5048-4b2f-d890-2a3deac7d990",
        "colab": {
          "base_uri": "https://localhost:8080/",
          "height": 68
        }
      },
      "source": [
        "%time my_clf.predict(X_test)"
      ],
      "execution_count": 18,
      "outputs": [
        {
          "output_type": "stream",
          "text": [
            "CPU times: user 727 µs, sys: 0 ns, total: 727 µs\n",
            "Wall time: 952 µs\n"
          ],
          "name": "stdout"
        },
        {
          "output_type": "execute_result",
          "data": {
            "text/plain": [
              "array([2, 2, 0, 0, 1, 2, 0, 1, 1, 1, 2, 1, 0, 1, 0])"
            ]
          },
          "metadata": {
            "tags": []
          },
          "execution_count": 18
        }
      ]
    },
    {
      "cell_type": "code",
      "metadata": {
        "id": "eF--tLctDqVh"
      },
      "source": [
        "sklearn_pred = clf.predict(X_test)\n",
        "my_clf_pred = my_clf.predict(X_test)\n",
        "assert abs( accuracy_score(y_test, my_clf_pred) -  accuracy_score(y_test, sklearn_pred ) )<0.005, \"Score must be simillar\""
      ],
      "execution_count": 19,
      "outputs": []
    },
    {
      "cell_type": "markdown",
      "metadata": {
        "id": "iy22lAK4DqVo"
      },
      "source": [
        "**Задание 4 (2.5 балла)**\n",
        "\n",
        "Рассмотрим новый датасет 20 newsgroups"
      ]
    },
    {
      "cell_type": "code",
      "metadata": {
        "id": "eE26p75UDqVp",
        "outputId": "c75a8777-9a1a-446b-c437-14575ecfb307",
        "colab": {
          "base_uri": "https://localhost:8080/",
          "height": 51
        }
      },
      "source": [
        "newsgroups = fetch_20newsgroups(subset='train',remove=['headers','footers', 'quotes'])"
      ],
      "execution_count": 20,
      "outputs": [
        {
          "output_type": "stream",
          "text": [
            "Downloading 20news dataset. This may take a few minutes.\n",
            "Downloading dataset from https://ndownloader.figshare.com/files/5975967 (14 MB)\n"
          ],
          "name": "stderr"
        }
      ]
    },
    {
      "cell_type": "code",
      "metadata": {
        "id": "erW3YKNADqVy"
      },
      "source": [
        "data = newsgroups['data']\n",
        "target = newsgroups['target']"
      ],
      "execution_count": 21,
      "outputs": []
    },
    {
      "cell_type": "markdown",
      "metadata": {
        "id": "eVAv_ofyDqV4"
      },
      "source": [
        "Преобразуйте текстовые данные из data с помощью [CountVectorizer](https://scikit-learn.org/stable/modules/generated/sklearn.feature_extraction.text.CountVectorizer.html). Словарь можно ограничить по частотности."
      ]
    },
    {
      "cell_type": "code",
      "metadata": {
        "id": "KK-uB53tDqV6"
      },
      "source": [
        "from sklearn.feature_extraction.text import CountVectorizer"
      ],
      "execution_count": 22,
      "outputs": []
    },
    {
      "cell_type": "code",
      "metadata": {
        "id": "1DqOzPrMDqWA"
      },
      "source": [
        "vectorizer = CountVectorizer(max_df=0.2)\n",
        "dataMatr = vectorizer.fit_transform(data)"
      ],
      "execution_count": 23,
      "outputs": []
    },
    {
      "cell_type": "markdown",
      "metadata": {
        "id": "tVZWM6n0DqWQ"
      },
      "source": [
        "*Так мы получили векторное представление наших текстов. Значит можно приступать к задаче обучения модели*"
      ]
    },
    {
      "cell_type": "markdown",
      "metadata": {
        "id": "YUTjCPEdDqWS"
      },
      "source": [
        "Реализуйте разбиение выборки для кросс-валидации на 3 фолдах. Разрешено использовать sklearn.cross_validation"
      ]
    },
    {
      "cell_type": "code",
      "metadata": {
        "id": "IwLFdTEtDqWT"
      },
      "source": [
        "from sklearn.model_selection import KFold"
      ],
      "execution_count": 24,
      "outputs": []
    },
    {
      "cell_type": "code",
      "metadata": {
        "id": "IIzmMSpNDqWZ"
      },
      "source": [
        "kf = KFold(n_splits=3)"
      ],
      "execution_count": 25,
      "outputs": []
    },
    {
      "cell_type": "code",
      "metadata": {
        "id": "OQvPQDOcDqWl",
        "outputId": "d7c466c7-3134-421d-ccee-20238e20f03b",
        "colab": {
          "base_uri": "https://localhost:8080/",
          "height": 68
        }
      },
      "source": [
        "my_clf = MyKNeighborsClassifier(n_neighbors=2, algorithm='brute', standardize=True)\n",
        "for train_index, test_index in kf.split(dataMatr):\n",
        "    my_clf.fit(dataMatr[train_index], target[train_index])\n",
        "    print(accuracy_score(target[test_index], my_clf.predict(dataMatr[test_index])))"
      ],
      "execution_count": 26,
      "outputs": [
        {
          "output_type": "stream",
          "text": [
            "0.05514316012725345\n",
            "0.05807478122513922\n",
            "0.05303632988597189\n"
          ],
          "name": "stdout"
        }
      ]
    },
    {
      "cell_type": "markdown",
      "metadata": {
        "id": "S927VPojDqXF"
      },
      "source": [
        "Напишите метод, позволяющий найти оптимальное количество ближайших соседей(дающее максимальную точность в среднем на валидации на 3 фолдах).\n",
        "Постройте график зависимости средней точности от количества соседей. Можно рассмотреть число соседей от 1 до 10."
      ]
    },
    {
      "cell_type": "code",
      "metadata": {
        "id": "4ycr4iXUDqXH"
      },
      "source": [
        "#optimizeK возвращает оптимальное число соседей в заданном диапазоне\n",
        "def optimizeK(X, y, maxK=5, minK=1, metric='euclidean', standardize=False):\n",
        "    kf = KFold(n_splits=3)\n",
        "    meanAccuracy = []\n",
        "\n",
        "    for k in range(minK, maxK):\n",
        "        my_clf = MyKNeighborsClassifier(n_neighbors=k, algorithm='brute', metric=metric, standardize=standardize)\n",
        "        tempAccuracy = []\n",
        "        kfSplit = kf.split(dataMatr)\n",
        "        for train_index, test_index in kfSplit:\n",
        "            my_clf.fit(X[train_index], y[train_index])\n",
        "            tempAccuracy.append(accuracy_score(y[test_index], my_clf.predict(X[test_index])))\n",
        "        meanAccuracy.append(np.asarray(tempAccuracy).mean())\n",
        "    print('max accuracy = ', np.asarray(meanAccuracy).max())\n",
        "    return (np.asarray(meanAccuracy)).argmax() + 1\n",
        "\n",
        "\n",
        "def meanAccuracyForK(X, y, k, metric='euclidean', standardize=False):\n",
        "    kf = KFold(n_splits=3)\n",
        "    my_clf = MyKNeighborsClassifier(n_neighbors=k, algorithm='brute', metric=metric, standardize=standardize)\n",
        "    tempAccuracy = []\n",
        "    kfSplit = kf.split(dataMatr)\n",
        "\n",
        "    for train_index, test_index in kfSplit:\n",
        "        my_clf.fit(X[train_index], y[train_index])\n",
        "        tempAccuracy.append(accuracy_score(y[test_index], my_clf.predict(X[test_index])))\n",
        "\n",
        "    return np.asarray(tempAccuracy).mean()"
      ],
      "execution_count": 27,
      "outputs": []
    },
    {
      "cell_type": "code",
      "metadata": {
        "id": "PsjQTM3ITO4_",
        "outputId": "bc2eba01-9455-4758-c3e3-419155bd69a1",
        "colab": {
          "base_uri": "https://localhost:8080/",
          "height": 51
        }
      },
      "source": [
        "print('optimal number of neighbours = ', optimizeK(dataMatr, target, 5, standardize=True))"
      ],
      "execution_count": 28,
      "outputs": [
        {
          "output_type": "stream",
          "text": [
            "max accuracy =  0.05966064529034485\n",
            "optimal number of neighbours =  1\n"
          ],
          "name": "stdout"
        }
      ]
    },
    {
      "cell_type": "code",
      "metadata": {
        "id": "HcMmlOyWbR8z",
        "outputId": "8643509a-d434-41ce-fe42-3ff451a3a840",
        "colab": {
          "base_uri": "https://localhost:8080/",
          "height": 351
        }
      },
      "source": [
        "import matplotlib.pyplot as plt\n",
        "fig = plt.figure(figsize= (14,5))\n",
        "ax = fig.add_subplot(111)\n",
        "ax.set_ylabel(\"Mean accuracy\")\n",
        "ax.set_xlabel(\"Number of neighbours\")\n",
        "plt.bar(range(1, 20), [meanAccuracyForK(dataMatr, target, i, standardize=True) for i in range(1, 20)])"
      ],
      "execution_count": 29,
      "outputs": [
        {
          "output_type": "execute_result",
          "data": {
            "text/plain": [
              "<BarContainer object of 19 artists>"
            ]
          },
          "metadata": {
            "tags": []
          },
          "execution_count": 29
        },
        {
          "output_type": "display_data",
          "data": {
            "image/png": "[encoded data removed]",
            "text/plain": [
              "<Figure size 1008x360 with 1 Axes>"
            ]
          },
          "metadata": {
            "tags": [],
            "needs_background": "light"
          }
        }
      ]
    },
    {
      "cell_type": "markdown",
      "metadata": {
        "id": "z2Xu3rnXDqXN"
      },
      "source": [
        "Как изменится качество на валидации, если:\n",
        "\n",
        "1. Используется косинусная метрика вместо евклидовой.\n",
        "2. К текстам применяется TfIdf векторизацию( sklearn.feature_extraction.text.TfidfVectorizer)\n",
        "\n",
        "Сравните модели, выберите лучшую."
      ]
    },
    {
      "cell_type": "code",
      "metadata": {
        "id": "lgmdjtBbuYoZ",
        "outputId": "b109f9d6-36b8-44cf-a94b-5c84a94553c9",
        "colab": {
          "base_uri": "https://localhost:8080/",
          "height": 367
        }
      },
      "source": [
        "fig = plt.figure(figsize= (14,5))\n",
        "res = [meanAccuracyForK(dataMatr, target, i, metric='cosine', standardize=True) for i in range(1, 21)]\n",
        "ax = fig.add_subplot(111)\n",
        "ax.set_title(\"For cosine metric:\")\n",
        "ax.set_ylabel(\"Mean accuracy\")\n",
        "ax.set_xlabel(\"Number of neighbours\")\n",
        "plt.bar(range(1, 21), res)"
      ],
      "execution_count": 30,
      "outputs": [
        {
          "output_type": "execute_result",
          "data": {
            "text/plain": [
              "<BarContainer object of 20 artists>"
            ]
          },
          "metadata": {
            "tags": []
          },
          "execution_count": 30
        },
        {
          "output_type": "display_data",
          "data": {
            "image/png": "[encoded data removed]",
            "text/plain": [
              "<Figure size 1008x360 with 1 Axes>"
            ]
          },
          "metadata": {
            "tags": [],
            "needs_background": "light"
          }
        }
      ]
    },
    {
      "cell_type": "code",
      "metadata": {
        "id": "JDZBqGO3gMDn",
        "outputId": "a56e1fa4-101f-48ae-be3f-937050c8eef7",
        "colab": {
          "base_uri": "https://localhost:8080/",
          "height": 367
        }
      },
      "source": [
        "fig = plt.figure(figsize= (14,5))\n",
        "res = [meanAccuracyForK(dataMatr, target, i, metric='cosine', standardize=True) if i <= 40 or i % 10 == 0 else 0 for i in range(21, 101)]\n",
        "ax = fig.add_subplot(111)\n",
        "ax.set_title(\"For cosine metric:\")\n",
        "ax.set_ylabel(\"Mean accuracy\")\n",
        "ax.set_xlabel(\"Number of neighbours\")\n",
        "plt.bar(range(21, 101), res)\n",
        "print('optimal number of neighbours = ', np.asarray(res).argmax() + 21)"
      ],
      "execution_count": 31,
      "outputs": [
        {
          "output_type": "stream",
          "text": [
            "optimal number of neighbours =  60\n"
          ],
          "name": "stdout"
        },
        {
          "output_type": "display_data",
          "data": {
            "image/png": "[encoded data removed]",
            "text/plain": [
              "<Figure size 1008x360 with 1 Axes>"
            ]
          },
          "metadata": {
            "tags": [],
            "needs_background": "light"
          }
        }
      ]
    },
    {
      "cell_type": "code",
      "metadata": {
        "id": "FcC1wX2UsKvz"
      },
      "source": [
        "from sklearn.feature_extraction.text import TfidfVectorizer"
      ],
      "execution_count": 32,
      "outputs": []
    },
    {
      "cell_type": "code",
      "metadata": {
        "id": "v_-nV_9vsLnu"
      },
      "source": [
        "vectorizer = TfidfVectorizer(max_df=0.2)\n",
        "dataMatr = vectorizer.fit_transform(data)\n",
        "vocab = vectorizer.vocabulary_"
      ],
      "execution_count": 33,
      "outputs": []
    },
    {
      "cell_type": "code",
      "metadata": {
        "id": "e87SEQAgsx3X",
        "outputId": "9d1a411a-d8b8-4d9c-db1f-6269ef7047fd",
        "colab": {
          "base_uri": "https://localhost:8080/",
          "height": 367
        }
      },
      "source": [
        "fig = plt.figure(figsize= (14,5))\n",
        "res = [meanAccuracyForK(dataMatr, target, i, metric='cosine', standardize=True) for i in range(1, 10)]\n",
        "ax = fig.add_subplot(111)\n",
        "ax.set_title(\"For cosine metric and after TfIdf-vectorization:\")\n",
        "ax.set_ylabel(\"Mean accuracy\")\n",
        "ax.set_xlabel(\"Number of neighbours\")\n",
        "plt.bar(range(1, 10), res)"
      ],
      "execution_count": 34,
      "outputs": [
        {
          "output_type": "execute_result",
          "data": {
            "text/plain": [
              "<BarContainer object of 9 artists>"
            ]
          },
          "metadata": {
            "tags": []
          },
          "execution_count": 34
        },
        {
          "output_type": "display_data",
          "data": {
            "image/png": "[encoded data removed]",
            "text/plain": [
              "<Figure size 1008x360 with 1 Axes>"
            ]
          },
          "metadata": {
            "tags": [],
            "needs_background": "light"
          }
        }
      ]
    },
    {
      "cell_type": "code",
      "metadata": {
        "id": "DE2QEPab2zlF",
        "outputId": "583b8857-4b16-43d4-8868-5535de67fd3d",
        "colab": {
          "base_uri": "https://localhost:8080/",
          "height": 367
        }
      },
      "source": [
        "fig = plt.figure(figsize= (14,5))\n",
        "res = [meanAccuracyForK(dataMatr, target, i, metric='cosine', standardize=True) if i <= 20 or i % 10 == 0 else 0 for i in range(10, 101)]\n",
        "ax = fig.add_subplot(111)\n",
        "ax.set_title(\"For cosine metric and after TfIdf-vectorization:\")\n",
        "ax.set_ylabel(\"Mean accuracy\")\n",
        "ax.set_xlabel(\"Number of neighbours\")\n",
        "plt.bar(range(10, 101), res)\n",
        "print('optimal number of neighbours = ', np.asarray(res).argmax() + 10)"
      ],
      "execution_count": 35,
      "outputs": [
        {
          "output_type": "stream",
          "text": [
            "optimal number of neighbours =  70\n"
          ],
          "name": "stdout"
        },
        {
          "output_type": "display_data",
          "data": {
            "image/png": "[encoded data removed]",
            "text/plain": [
              "<Figure size 1008x360 with 1 Axes>"
            ]
          },
          "metadata": {
            "tags": [],
            "needs_background": "light"
          }
        }
      ]
    },
    {
      "cell_type": "code",
      "metadata": {
        "id": "d8uHfKGc-G5Q",
        "outputId": "ff9f2802-5c99-4479-c465-e74ae04565ab",
        "colab": {
          "base_uri": "https://localhost:8080/",
          "height": 51
        }
      },
      "source": [
        "optimizeK(dataMatr, target, 71, minK=70, metric='cosine', standardize=True)"
      ],
      "execution_count": 36,
      "outputs": [
        {
          "output_type": "stream",
          "text": [
            "max accuracy =  0.6755355117973026\n"
          ],
          "name": "stdout"
        },
        {
          "output_type": "execute_result",
          "data": {
            "text/plain": [
              "1"
            ]
          },
          "metadata": {
            "tags": []
          },
          "execution_count": 36
        }
      ]
    },
    {
      "cell_type": "markdown",
      "metadata": {
        "id": "lD8ThC1_DqXO"
      },
      "source": [
        "Загрузим  теперь test  часть нашей выборки и преобразуем её аналогично с train частью. Не забудьте, что наборы слов в train и test части могут отличаться."
      ]
    },
    {
      "cell_type": "code",
      "metadata": {
        "id": "tpBvRp4uDqXP"
      },
      "source": [
        "newsgroups = fetch_20newsgroups(subset='test',remove=['headers','footers', 'quotes'])\n",
        "testData = newsgroups['data']\n",
        "testTarget = newsgroups['target']"
      ],
      "execution_count": 37,
      "outputs": []
    },
    {
      "cell_type": "markdown",
      "metadata": {
        "id": "4OBy81D7DqXY"
      },
      "source": [
        "Оценим точность вашей лучшей модели на test части датасета. Отличается ли оно от кросс-валидации? Попробуйте сделать выводы, почему отличается качество."
      ]
    },
    {
      "cell_type": "code",
      "metadata": {
        "id": "4yobZrWVDqXZ",
        "outputId": "97d5279d-11e2-432d-d8f6-4da05e578428",
        "colab": {
          "base_uri": "https://localhost:8080/",
          "height": 34
        }
      },
      "source": [
        "my_clf = MyKNeighborsClassifier(n_neighbors=70, algorithm='brute', metric='cosine', standardize=True)\n",
        "my_clf.fit(dataMatr, target)\n",
        "vectorizer = TfidfVectorizer(max_df=0.2, vocabulary=vocab)\n",
        "testDataMatr = vectorizer.fit_transform(testData)\n",
        "print(accuracy_score(testTarget, my_clf.predict(testDataMatr)))"
      ],
      "execution_count": 38,
      "outputs": [
        {
          "output_type": "stream",
          "text": [
            "0.6370154009559214\n"
          ],
          "name": "stdout"
        }
      ]
    },
    {
      "cell_type": "code",
      "metadata": {
        "id": "UOd69-kK8l5N"
      },
      "source": [
        "#Вывод: качество слабо отличается от кросс-валидации. Оно немного упало. Возможно, связано с тем, что появились новые слова, которые в старом словаре не учитываются"
      ],
      "execution_count": 39,
      "outputs": []
    }
  ]
}